{
 "cells": [
  {
   "attachments": {},
   "cell_type": "markdown",
   "metadata": {},
   "source": [
    "Documentación \"Programa Exámenes Médicos\""
   ]
  },
  {
   "attachments": {},
   "cell_type": "markdown",
   "metadata": {},
   "source": [
    "Utilización de listas para guardar examenes agendados. "
   ]
  },
  {
   "cell_type": "code",
   "execution_count": 1,
   "metadata": {},
   "outputs": [],
   "source": [
    "examenes_agendados = []"
   ]
  },
  {
   "attachments": {},
   "cell_type": "markdown",
   "metadata": {},
   "source": [
    "Utilización de diccionario para examenes disponibles y su valor. "
   ]
  },
  {
   "cell_type": "code",
   "execution_count": 2,
   "metadata": {},
   "outputs": [],
   "source": [
    "examenes_disponibles = {\n",
    "    \"ECO\": 15000,\n",
    "    \"SCANNER\": 25000,\n",
    "    \"RAYO\": 10000\n",
    "}"
   ]
  },
  {
   "attachments": {},
   "cell_type": "markdown",
   "metadata": {},
   "source": [
    "Funcion N°1- Agendar Examen\n",
    "\n",
    "Detalle: \n",
    "\n",
    "Esta función permite al usuario poder validar los examenes disponibles, debido que consulta en el diccionario, mostrando su la llave: EXAMEN valor: VALOR DEL EXAMEN. Adicionalmente le pedirá al usuario que ingrese cual examen necesita y lo revisará si está en el diccionario. \n",
    "\n",
    "Pd# Es importante crear una bandera para indicar que no se ha pagado. "
   ]
  },
  {
   "cell_type": "code",
   "execution_count": 3,
   "metadata": {},
   "outputs": [],
   "source": [
    "def agendar_examen():\n",
    "    nombre = input(\"Ingrese su nombre: \")\n",
    "    rut = input(\"Ingrese su rut: \")\n",
    "    print(\"Exámenes disponibles:\")\n",
    "    for examen, valor in examenes_disponibles.items():\n",
    "        print(examen, \"- Valor:\", valor)\n",
    "    tipo_examen = input(\"Ingrese el tipo de examen que desea agendar: \")\n",
    "    \n",
    "    if tipo_examen in examenes_disponibles:\n",
    "        examen_agendado = {\n",
    "            \"nombre\": nombre,\n",
    "            \"rut\": rut,\n",
    "            \"tipo_examen\": tipo_examen,\n",
    "            \"pagado\": False\n",
    "        }\n",
    "        examenes_agendados.append(examen_agendado)\n",
    "        print(\"Examen agendado con éxito.\")\n",
    "    else:\n",
    "        print(\"El tipo de examen ingresado no es válido.\")"
   ]
  },
  {
   "attachments": {},
   "cell_type": "markdown",
   "metadata": {},
   "source": [
    "Funcion N°2- Pagar Examen\n",
    "\n",
    "Detalle: \n",
    "\n",
    "Esta función permite al usuario a pagar el examen, para ello ingresamos el rut y creamos una bandera que parte en False. Luego entramos a un bucle donde vemos la variable iterante examen en el diccionario examenes_agendados. Esto busca si el rut tiene reserva, si figura la bandera como False, con esto nos imprimirá el examen agendado. "
   ]
  },
  {
   "cell_type": "code",
   "execution_count": 1,
   "metadata": {},
   "outputs": [],
   "source": [
    "def pagar_examen():\n",
    "    rut = input(\"Ingrese su rut: \")\n",
    "    encontrado = False\n",
    "    \n",
    "    for examen in examenes_agendados:\n",
    "        if examen[\"rut\"] == rut and not examen[\"pagado\"]:\n",
    "            tipo_examen = examen[\"tipo_examen\"]\n",
    "            valor = examenes_disponibles[tipo_examen]\n",
    "            print(\"Examen a pagar:\", tipo_examen)\n",
    "            print(\"Valor a pagar:\", valor)\n",
    "            examen[\"pagado\"] = True\n",
    "            encontrado = True\n",
    "            break\n",
    "    \n",
    "    if not encontrado:\n",
    "        print(\"No se encontró ningún examen pendiente de pago para el rut ingresado.\")"
   ]
  },
  {
   "attachments": {},
   "cell_type": "markdown",
   "metadata": {},
   "source": [
    "Funcion N°3- Consultar examenes disponibles\n",
    "\n",
    "Detalle: \n",
    "\n",
    "Esta función permite al usuario consultar por los examenes disponibles y que están guardados en la lista. \n",
    "\n",
    "Pd# Recordar que la llave es tipo examen y su valor, es el valor. "
   ]
  },
  {
   "cell_type": "code",
   "execution_count": 6,
   "metadata": {},
   "outputs": [],
   "source": [
    "def consultar_examenes_disponibles():\n",
    "    print(\"Exámenes disponibles:\")\n",
    "    for examen, valor in examenes_disponibles.items():\n",
    "        print(examen, \"- Valor:\", valor)"
   ]
  },
  {
   "attachments": {},
   "cell_type": "markdown",
   "metadata": {},
   "source": [
    "Funcion N°4- Menu\n",
    "\n",
    "Detalle: \n",
    "\n",
    "Esta función permite al usuario ejecutar el programa. "
   ]
  },
  {
   "cell_type": "code",
   "execution_count": 7,
   "metadata": {},
   "outputs": [],
   "source": [
    "def menu():\n",
    "    while True:\n",
    "        print(\"\\n--- Menú ---\")\n",
    "        print(\"1. Agendar examen\")\n",
    "        print(\"2. Pagar examen\")\n",
    "        print(\"3. Consultar exámenes disponibles\")\n",
    "        print(\"4. Salir\")\n",
    "        \n",
    "        opcion = input(\"Ingrese una opción: \")\n",
    "        \n",
    "        if opcion == \"1\":\n",
    "            agendar_examen()\n",
    "        elif opcion == \"2\":\n",
    "            pagar_examen()\n",
    "        elif opcion == \"3\":\n",
    "            consultar_examenes_disponibles()\n",
    "        elif opcion == \"4\":\n",
    "            print(\"Saliendo del programa...\")\n",
    "            break\n",
    "        else:\n",
    "            print(\"Opción inválida. Por favor, ingrese una opción válida.\")"
   ]
  }
 ],
 "metadata": {
  "kernelspec": {
   "display_name": "Python 3",
   "language": "python",
   "name": "python3"
  },
  "language_info": {
   "codemirror_mode": {
    "name": "ipython",
    "version": 3
   },
   "file_extension": ".py",
   "mimetype": "text/x-python",
   "name": "python",
   "nbconvert_exporter": "python",
   "pygments_lexer": "ipython3",
   "version": "3.11.3"
  },
  "orig_nbformat": 4
 },
 "nbformat": 4,
 "nbformat_minor": 2
}
